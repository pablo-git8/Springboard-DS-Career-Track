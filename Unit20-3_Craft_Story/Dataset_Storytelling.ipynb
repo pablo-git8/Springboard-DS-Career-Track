{
 "cells": [],
 "metadata": {
  "kernelspec": {
   "display_name": "Python 3.8.12 ('python38')",
   "language": "python",
   "name": "python3"
  },
  "language_info": {
   "codemirror_mode": {
    "name": "ipython",
    "version": 3
   },
   "file_extension": ".py",
   "mimetype": "text/x-python",
   "name": "python",
   "nbconvert_exporter": "python",
   "pygments_lexer": "ipython3",
   "version": "3.8.12"
  },
  "vscode": {
   "interpreter": {
    "hash": "8d4441981c69637c3c918995ed76b87dfee040265e1ee88081871cbf148426e8"
   }
  }
 },
 "nbformat": 4,
 "nbformat_minor": 4
}
